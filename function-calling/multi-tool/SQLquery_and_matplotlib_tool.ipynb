{
 "cells": [
  {
   "cell_type": "markdown",
   "id": "df58416d-fee1-4333-8120-a9665b46c9f4",
   "metadata": {
    "tags": []
   },
   "source": [
    "## Multitool Creation using Amazon Bedrock ConverseAPI Function Calling"
   ]
  },
  {
   "cell_type": "markdown",
   "id": "3caca4be-6de0-410f-87c7-17b3ba1481c1",
   "metadata": {},
   "source": [
    "In this notebook we will create a fictionary database called acme bank which has transaction data for different user names and their corresponding transfer amounts. After the database is being created we will create two different tools called **bar_chart** and **query_athena**. Using function calling in Bedrock Converse API, our LLM will be able to take the user input and create the query for Amazon Athena table by calling query_athena_tool. Afterwards user can ask the LLM to create a bar plot from the values returned by the query by calling the bar_chart tool. "
   ]
  },
  {
   "cell_type": "markdown",
   "id": "545aadac-efeb-4bf9-b41f-cc607096835e",
   "metadata": {},
   "source": [
    "### Import the Required Modules"
   ]
  },
  {
   "cell_type": "code",
   "execution_count": null,
   "id": "eca4adf8-b8c6-4c08-b1df-dd11708aff51",
   "metadata": {},
   "outputs": [],
   "source": [
    "!pip3 install -qU boto3"
   ]
  },
  {
   "cell_type": "code",
   "execution_count": null,
   "id": "4b1c4677-1c6b-48fa-8bc3-33ac75746803",
   "metadata": {},
   "outputs": [],
   "source": [
    "!pip3 install matplotlib"
   ]
  },
  {
   "cell_type": "code",
   "execution_count": null,
   "id": "c4bdb57f-fa13-4824-84d0-3c8bb60fc03b",
   "metadata": {},
   "outputs": [],
   "source": [
    "!pip3 install PyAthena"
   ]
  },
  {
   "cell_type": "code",
   "execution_count": null,
   "id": "5097001c-5e68-417c-bdcf-d31baadc0e58",
   "metadata": {},
   "outputs": [],
   "source": [
    "import boto3\n",
    "import json, sys\n",
    "from datetime import datetime\n",
    "from pyathena import connect\n",
    "import pandas as pd\n",
    "\n",
    "print('Running boto3 version:', boto3.__version__)"
   ]
  },
  {
   "cell_type": "markdown",
   "id": "6b2f1c21-f13f-41ab-a5bb-845c9ffc216e",
   "metadata": {
    "tags": []
   },
   "source": [
    "### Attach the necessary IAM permissions\n",
    "\n",
    "By clicking your sagemaker notebook you can find the attached IAM role. Copy and paste your IAM role to role_name and run the cell below to give access to Amazon Bedrock."
   ]
  },
  {
   "cell_type": "code",
   "execution_count": null,
   "id": "a9857a5f-2cbe-492d-8b79-c5aa753e3daf",
   "metadata": {},
   "outputs": [],
   "source": [
    "# Create an IAM client\n",
    "iam = boto3.client('iam')\n",
    "\n",
    "# Define the role name and policy ARN\n",
    "role_name = 'INSERT YOUR SAGEMAKER IAM ROLE'\n",
    "policy_arn = 'arn:aws:iam::aws:policy/AmazonBedrockFullAccess'  \n",
    "# Attach the policy to the role\n",
    "try:\n",
    "    response = iam.attach_role_policy(\n",
    "        RoleName=role_name,\n",
    "        PolicyArn=policy_arn\n",
    "    )\n",
    "    print(f\"Policy {policy_arn} attached to role {role_name} successfully.\")\n",
    "except iam.exceptions.NoSuchEntityException:\n",
    "    print(f\"Role {role_name} or policy {policy_arn} does not exist.\")\n",
    "except Exception as e:\n",
    "    print(f\"Error attaching policy: {e}\")"
   ]
  },
  {
   "cell_type": "markdown",
   "id": "941211c8-6576-44d9-b57c-afae46869095",
   "metadata": {},
   "source": [
    "### Create the S3 Bucket for Amzaon Athena Query Results\n",
    "\n",
    "We will save the outout query results from Amazon Athena to the the S3 bucket that we create below. Please make sure you create your S3 bucket before you create your Athena table.\n"
   ]
  },
  {
   "cell_type": "code",
   "execution_count": null,
   "id": "9c205a2d-a397-4f68-a494-d88a6a965cbc",
   "metadata": {},
   "outputs": [],
   "source": [
    "# Create an S3 client\n",
    "s3 = boto3.client('s3')\n",
    "\n",
    "# Define the bucket name\n",
    "bucket_name = 'BUCKET_NAME'\n",
    "\n",
    "# Create the S3 bucket\n",
    "response = s3.create_bucket(Bucket=bucket_name)\n",
    "\n",
    "if response['ResponseMetadata']['HTTPStatusCode'] ==200:\n",
    "    print(f'Bucket {bucket_name} created successfully!')\n",
    "else:\n",
    "    print(f\"Failed to create the bucket Error: {response.status_code}\")"
   ]
  },
  {
   "cell_type": "markdown",
   "id": "0514d5c5-941c-48a1-bfe9-ddfa53e66073",
   "metadata": {},
   "source": [
    "### Creating Amazon Athena Catalog\n",
    "\n",
    "we will create our acme_bank database in athena. Run the python code below and make sure you replace the bucket name in the code with your bucket name that is being created in the previous step!\n"
   ]
  },
  {
   "cell_type": "code",
   "execution_count": null,
   "id": "cdac1f50-05a2-412d-9be1-1806dbf82a3a",
   "metadata": {},
   "outputs": [],
   "source": [
    "!python create_athena_catalog.py"
   ]
  },
  {
   "cell_type": "markdown",
   "id": "cb127eb8-1b65-40f5-b79c-a89b4daaf610",
   "metadata": {},
   "source": [
    "### Amazon Bedrock Configurations"
   ]
  },
  {
   "cell_type": "code",
   "execution_count": null,
   "id": "39568edd-8b92-4b58-bfa2-e98ae0ba41a8",
   "metadata": {},
   "outputs": [],
   "source": [
    "modelId = 'anthropic.claude-3-sonnet-20240229-v1:0'\n",
    "#modelId = 'anthropic.claude-3-haiku-20240307-v1:0'\n",
    "#modelId = 'cohere.command-r-plus-v1:0'\n",
    "#modelId = 'cohere.command-r-v1:0'\n",
    "#modelId = 'mistral.mistral-large-2402-v1:0'\n",
    "print(f'Using modelId: {modelId}')\n",
    "\n",
    "region = 'us-east-1'\n",
    "print('Using region: ', region)\n",
    "\n",
    "bedrock = boto3.client(\n",
    "    service_name = 'bedrock-runtime',\n",
    "    region_name = region,\n",
    "    )\n"
   ]
  },
  {
   "cell_type": "markdown",
   "id": "e94c66c2-127d-4643-a988-2492937d1737",
   "metadata": {
    "tags": []
   },
   "source": [
    "### Defining our Tools\n",
    "\n",
    "Bar_Chart tool will create a bar plot using matplot library for the given user names and their corresponding transaction amounts. Query_Athena tool wil query the Athena table and return the database name and values inside the rows/columns of the table."
   ]
  },
  {
   "cell_type": "code",
   "execution_count": null,
   "id": "ed35a519-1b8b-4f78-ad12-18f148d33452",
   "metadata": {},
   "outputs": [],
   "source": [
    "import matplotlib.pyplot as plt\n",
    "\n",
    "\n",
    "class ToolsList:\n",
    "    #Define our bar_chart tool function...\n",
    "    def bar_chart(self, title, x_values, y_values, x_label, y_label):\n",
    "      \n",
    "        fig, ax = plt.subplots(figsize=(10, 6))  \n",
    "        ax.bar(x_values, y_values, color='skyblue')\n",
    "        ax.set_title(title)\n",
    "        ax.set_xlabel(x_label)\n",
    "        ax.set_ylabel(y_label)\n",
    "        \n",
    "        plt.show() \n",
    "        \n",
    "        output_name=f\"{title}.png\"\n",
    "        fig.savefig(output_name)\n",
    "        \n",
    "        result = f'Your bar chart named {title} is saved'\n",
    "\n",
    "        # Returns the figure object\n",
    "        return result\n",
    "        \n",
    "\n",
    "    def query_athena(self, query):\n",
    "        \n",
    "        print(f\"{datetime.now().strftime('%H:%M:%S')} - Got tool query: {query}\\n\")\n",
    "        \n",
    "        try:\n",
    "            cursor = connect(s3_staging_dir=f\"s3://{bucket_name}/athena/\",\n",
    "                                region_name=region).cursor()\n",
    "            cursor.execute(query)\n",
    "            df = pd.DataFrame(cursor.fetchall()).to_string(index=False)\n",
    "            print(f\"{datetime.now().strftime('%H:%M:%S')} - Tool result: {df}\\n\")\n",
    "            \n",
    "        except Exception as e:\n",
    "            \n",
    "            print(f\"{datetime.now().strftime('%H:%M:%S')} - Error: {e}\")\n",
    "            raise\n",
    "            \n",
    "        return df\n",
    "       \n",
    "        \n"
   ]
  },
  {
   "cell_type": "code",
   "execution_count": null,
   "id": "2ffcb527-eb7e-49b3-9116-8a7bae3bb504",
   "metadata": {},
   "outputs": [],
   "source": [
    "#Define the configuration for our tool...\n",
    "toolConfig = {'tools': [],\n",
    "'toolChoice': {\n",
    "    'auto': {},\n",
    "    #'any': {},\n",
    "    #'tool': {\n",
    "    #    'name': 'get_weather'\n",
    "    #}\n",
    "    }\n",
    "}\n",
    "\n",
    "toolConfig['tools'].append({\n",
    "        'toolSpec': {\n",
    "            'name': 'bar_chart',\n",
    "            'description': 'create a bar chart.',\n",
    "            'inputSchema': {\n",
    "                'json': {\n",
    "                    'type': 'object',\n",
    "                    'properties': {\n",
    "                        'title': {\n",
    "                            'type': 'string',\n",
    "                            'description': 'title of the bar chart'\n",
    "                        },\n",
    "                        \n",
    "                         'x_values': {\n",
    "                            'type': 'array',\n",
    "                            'description': 'x axis values of the bar chart',\n",
    "                            'items': {\n",
    "                                \"type\": \"string\"\n",
    "                            }\n",
    "                        },\n",
    "                        \n",
    "                         'y_values': {\n",
    "                            'type': 'array',\n",
    "                            'description': 'y axis values of the bar chart',\n",
    "                            'items': {\n",
    "                                'type': 'string'\n",
    "                            }\n",
    "                        },\n",
    "                        \n",
    "                         'x_label': {\n",
    "                            'type': 'string',\n",
    "                            'description': 'x axis label of the bar chart'\n",
    "                        },\n",
    "                        \n",
    "                          'y_label': {\n",
    "                            'type': 'string',\n",
    "                            'description': 'y axis label of the bar chart'\n",
    "                        }\n",
    "                        \n",
    "                    },\n",
    "                    'required': ['title','x_values','y_values','x_label','y_label']\n",
    "                }\n",
    "            }\n",
    "        }\n",
    "    })\n",
    "\n",
    "\n",
    "\n",
    "### Defining tool schema\n",
    "toolConfig['tools'].append({\n",
    "        'toolSpec': {\n",
    "            'name': 'query_athena',\n",
    "            'description': 'Query the Acme Bank Athena catalog.',\n",
    "            'inputSchema': {\n",
    "                'json': {\n",
    "                    'type': 'object',\n",
    "                    'properties': {\n",
    "                        'query': {'type': 'string', 'description': 'SQL query to run against the Athena catalog'}\n",
    "                    },\n",
    "                    'required': ['query']\n",
    "                }\n",
    "            }\n",
    "        }\n",
    "    })\n",
    "\n"
   ]
  },
  {
   "cell_type": "code",
   "execution_count": null,
   "id": "6a86b457-bbb2-46df-9f70-17d14b38d13c",
   "metadata": {},
   "outputs": [],
   "source": [
    "#Function for caling the Bedrock Converse API...\n",
    "def converse_with_tools(messages, system='', toolConfig=toolConfig):\n",
    "    response = bedrock.converse(\n",
    "        modelId=modelId,\n",
    "        system=system,\n",
    "        messages=messages,\n",
    "        toolConfig=toolConfig\n",
    "    )\n",
    "    return response"
   ]
  },
  {
   "cell_type": "code",
   "execution_count": null,
   "id": "32ff7a01-3088-4a98-93bd-e184406deb45",
   "metadata": {},
   "outputs": [],
   "source": [
    "#Function for orchestrating the conversation flow...\n",
    "def converse(prompt, system=''):\n",
    "    #Add the initial prompt:\n",
    "    messages = []\n",
    "    messages.append(\n",
    "        {\n",
    "            \"role\": \"user\",\n",
    "            \"content\": [\n",
    "                {\n",
    "                    \"text\": prompt\n",
    "                }\n",
    "            ]\n",
    "        }\n",
    "    )\n",
    "    print(f\"\\n{datetime.now().strftime('%H:%M:%S')} - Initial prompt:\\n{json.dumps(messages, indent=2)}\")\n",
    "\n",
    "    #Invoke the model the first time:\n",
    "    output = converse_with_tools(messages, system)\n",
    "    print(f\"\\n{datetime.now().strftime('%H:%M:%S')} - Output so far:\\n{json.dumps(output['output'], indent=2, ensure_ascii=False)}\")\n",
    "\n",
    "    #Add the intermediate output to the prompt:\n",
    "    messages.append(output['output']['message'])\n",
    "\n",
    "    function_calling = next((c['toolUse'] for c in output['output']['message']['content'] if 'toolUse' in c), None)\n",
    "\n",
    "    #Check if function calling is triggered:\n",
    "    if function_calling:\n",
    "        #Get the tool name and arguments:\n",
    "        tool_name = function_calling['name']\n",
    "        tool_args = function_calling['input'] or {}\n",
    "        \n",
    "        #Run the tool:\n",
    "        print(f\"\\n{datetime.now().strftime('%H:%M:%S')} - Running ({tool_name}) tool...\")\n",
    "        tool_response = getattr(ToolsList(), tool_name)(**tool_args) or \"\"\n",
    "        if tool_response:\n",
    "            tool_status = 'success'\n",
    "        else:\n",
    "            tool_status = 'error'\n",
    "\n",
    "        #Add the tool result to the prompt:\n",
    "        messages.append(\n",
    "            {\n",
    "                \"role\": \"user\",\n",
    "                \"content\": [\n",
    "                    {\n",
    "                        'toolResult': {\n",
    "                            'toolUseId':function_calling['toolUseId'],\n",
    "                            'content': [\n",
    "                                {\n",
    "                                    \"text\": tool_response\n",
    "                                }\n",
    "                            ],\n",
    "                            'status': tool_status\n",
    "                        }\n",
    "                    }\n",
    "                ]\n",
    "            }\n",
    "        )\n",
    "        #print(f\"\\n{datetime.now().strftime('%H:%M:%S')} - Messages so far:\\n{json.dumps(messages, indent=2)}\")\n",
    "\n",
    "        #Invoke the model one more time:\n",
    "        output = converse_with_tools(messages, system)\n",
    "        print(f\"\\n{datetime.now().strftime('%H:%M:%S')} - Final output:\\n{json.dumps(output['output'], indent=2, ensure_ascii=False)}\\n\")\n",
    "    return\n"
   ]
  },
  {
   "cell_type": "code",
   "execution_count": null,
   "id": "40fcfa1c-3483-4abd-a20d-a12f6e54e0f4",
   "metadata": {},
   "outputs": [],
   "source": [
    "prompts = [\n",
    "   \n",
    "    \"return me the name of the table in acme_bank database\",\n",
    "    \"return me 3 user_names which are different from each other without duplicates, and their corresponding amounts from the transactions table within acme_bank database, print the user names amd the amounts as array list such as usernames:[x,y,z] and values:[x,y,z] \",\n",
    "]\n",
    "\n",
    "\n",
    "\n",
    "for prompt in prompts:\n",
    "    converse(\n",
    "        system = [{\"text\": \"You're provided with a tool that can plot a bar chart with the given title 'bar_chart' and another tool to create and run SQL queries agains Athena data catalog named 'query_athena'; \\\n",
    "            only use the tool if required;\\ You can use multiple tools at once or you can call the tool multiple times in the same response if required; \\ Don't make reference to the tools in your final answer.\"}],\n",
    "        prompt = prompt\n",
    ")\n",
    "    \n",
    "    \n"
   ]
  },
  {
   "cell_type": "code",
   "execution_count": null,
   "id": "5313f71a-bbdd-4bb2-858b-387d42cf0e9c",
   "metadata": {},
   "outputs": [],
   "source": [
    "    \n",
    "prompt = \"Create the bar chart, title is acme_bank_chart, x values are [Leonardo DiCaprio, Daniel Day-Lewis,Brad Pitt],y values are [750.0,1600.0,2000.0], x label is usernames and y label is amounts.\"\n",
    "converse(\n",
    "        system = [{\"text\": \"You're provided with a tool that can plot a bar chart with the given title 'bar_chart' and another tool to create and run SQL queries agains Athena data catalog named 'query_athena'; \\\n",
    "            only use the tool if required;\\ You can use multiple tools at once or you can call the tool multiple times in the same response if required; \\ Don't make reference to the tools in your final answer.\"}],\n",
    "        prompt = prompt\n",
    ")\n",
    "    "
   ]
  },
  {
   "cell_type": "markdown",
   "id": "5c0e63fc-b09f-411f-8b7f-f07deb58eaec",
   "metadata": {},
   "source": [
    "In the successfull execution you should be able to see an output text similar to the example below from the LLM:\n",
    "\n",
    "*\"message\": {\"role\": \"assistant\", \"content\": [\n",
    "    {\"text\": \"The query selects 3 distinct user_names and their corresponding amounts from the transactions table in the acme_ bank database. \\n\\nusernames: ['Brad Pitt', 'Tilda Swinton', 'Christian Bale'] \\nvalues: [1800.0, 550.0,1300.0]\"}}*\n",
    "\n",
    "\n",
    "Please keep in mind that the LLM might return different user names than the example one!"
   ]
  },
  {
   "cell_type": "markdown",
   "id": "06fd8509-934d-4572-8d54-53df5583f454",
   "metadata": {},
   "source": [
    "### Conclusion\n",
    "\n",
    "In this notebook we learned how to use function calling for multiple tools within Bedrock. With the defined tools, Large Language Model from Amazon Bedrock is able to call the required functions according to the user input and create the final response.\n",
    "\n",
    "In our scenario, user asks information about tables in a bank database and LLM creates the required SQL query from the natural language by calling the query_athena function. Moreover, if the user requests a bar plot creation, LLM calls bar_plot function in order to create a bar plot for the given query results.\n",
    "\n",
    "\n",
    "\n",
    "\n",
    "\n"
   ]
  },
  {
   "cell_type": "markdown",
   "id": "02e1c108-db13-446f-89e0-548c2fa62758",
   "metadata": {},
   "source": [
    "### Clean Up(Optional)\n",
    "\n",
    "From the AWS Console\n",
    "\n",
    "* Go to S3 -> Buckets -> Select your bucket and press delete\n",
    "* Go to AWS Glue -> Databases -> ACME_Bank -> delete"
   ]
  },
  {
   "cell_type": "code",
   "execution_count": null,
   "id": "2f4170e1-e76c-4122-9530-a82f6899b2e9",
   "metadata": {},
   "outputs": [],
   "source": []
  }
 ],
 "metadata": {
  "availableInstances": [
   {
    "_defaultOrder": 0,
    "_isFastLaunch": true,
    "category": "General purpose",
    "gpuNum": 0,
    "hideHardwareSpecs": false,
    "memoryGiB": 4,
    "name": "ml.t3.medium",
    "vcpuNum": 2
   },
   {
    "_defaultOrder": 1,
    "_isFastLaunch": false,
    "category": "General purpose",
    "gpuNum": 0,
    "hideHardwareSpecs": false,
    "memoryGiB": 8,
    "name": "ml.t3.large",
    "vcpuNum": 2
   },
   {
    "_defaultOrder": 2,
    "_isFastLaunch": false,
    "category": "General purpose",
    "gpuNum": 0,
    "hideHardwareSpecs": false,
    "memoryGiB": 16,
    "name": "ml.t3.xlarge",
    "vcpuNum": 4
   },
   {
    "_defaultOrder": 3,
    "_isFastLaunch": false,
    "category": "General purpose",
    "gpuNum": 0,
    "hideHardwareSpecs": false,
    "memoryGiB": 32,
    "name": "ml.t3.2xlarge",
    "vcpuNum": 8
   },
   {
    "_defaultOrder": 4,
    "_isFastLaunch": true,
    "category": "General purpose",
    "gpuNum": 0,
    "hideHardwareSpecs": false,
    "memoryGiB": 8,
    "name": "ml.m5.large",
    "vcpuNum": 2
   },
   {
    "_defaultOrder": 5,
    "_isFastLaunch": false,
    "category": "General purpose",
    "gpuNum": 0,
    "hideHardwareSpecs": false,
    "memoryGiB": 16,
    "name": "ml.m5.xlarge",
    "vcpuNum": 4
   },
   {
    "_defaultOrder": 6,
    "_isFastLaunch": false,
    "category": "General purpose",
    "gpuNum": 0,
    "hideHardwareSpecs": false,
    "memoryGiB": 32,
    "name": "ml.m5.2xlarge",
    "vcpuNum": 8
   },
   {
    "_defaultOrder": 7,
    "_isFastLaunch": false,
    "category": "General purpose",
    "gpuNum": 0,
    "hideHardwareSpecs": false,
    "memoryGiB": 64,
    "name": "ml.m5.4xlarge",
    "vcpuNum": 16
   },
   {
    "_defaultOrder": 8,
    "_isFastLaunch": false,
    "category": "General purpose",
    "gpuNum": 0,
    "hideHardwareSpecs": false,
    "memoryGiB": 128,
    "name": "ml.m5.8xlarge",
    "vcpuNum": 32
   },
   {
    "_defaultOrder": 9,
    "_isFastLaunch": false,
    "category": "General purpose",
    "gpuNum": 0,
    "hideHardwareSpecs": false,
    "memoryGiB": 192,
    "name": "ml.m5.12xlarge",
    "vcpuNum": 48
   },
   {
    "_defaultOrder": 10,
    "_isFastLaunch": false,
    "category": "General purpose",
    "gpuNum": 0,
    "hideHardwareSpecs": false,
    "memoryGiB": 256,
    "name": "ml.m5.16xlarge",
    "vcpuNum": 64
   },
   {
    "_defaultOrder": 11,
    "_isFastLaunch": false,
    "category": "General purpose",
    "gpuNum": 0,
    "hideHardwareSpecs": false,
    "memoryGiB": 384,
    "name": "ml.m5.24xlarge",
    "vcpuNum": 96
   },
   {
    "_defaultOrder": 12,
    "_isFastLaunch": false,
    "category": "General purpose",
    "gpuNum": 0,
    "hideHardwareSpecs": false,
    "memoryGiB": 8,
    "name": "ml.m5d.large",
    "vcpuNum": 2
   },
   {
    "_defaultOrder": 13,
    "_isFastLaunch": false,
    "category": "General purpose",
    "gpuNum": 0,
    "hideHardwareSpecs": false,
    "memoryGiB": 16,
    "name": "ml.m5d.xlarge",
    "vcpuNum": 4
   },
   {
    "_defaultOrder": 14,
    "_isFastLaunch": false,
    "category": "General purpose",
    "gpuNum": 0,
    "hideHardwareSpecs": false,
    "memoryGiB": 32,
    "name": "ml.m5d.2xlarge",
    "vcpuNum": 8
   },
   {
    "_defaultOrder": 15,
    "_isFastLaunch": false,
    "category": "General purpose",
    "gpuNum": 0,
    "hideHardwareSpecs": false,
    "memoryGiB": 64,
    "name": "ml.m5d.4xlarge",
    "vcpuNum": 16
   },
   {
    "_defaultOrder": 16,
    "_isFastLaunch": false,
    "category": "General purpose",
    "gpuNum": 0,
    "hideHardwareSpecs": false,
    "memoryGiB": 128,
    "name": "ml.m5d.8xlarge",
    "vcpuNum": 32
   },
   {
    "_defaultOrder": 17,
    "_isFastLaunch": false,
    "category": "General purpose",
    "gpuNum": 0,
    "hideHardwareSpecs": false,
    "memoryGiB": 192,
    "name": "ml.m5d.12xlarge",
    "vcpuNum": 48
   },
   {
    "_defaultOrder": 18,
    "_isFastLaunch": false,
    "category": "General purpose",
    "gpuNum": 0,
    "hideHardwareSpecs": false,
    "memoryGiB": 256,
    "name": "ml.m5d.16xlarge",
    "vcpuNum": 64
   },
   {
    "_defaultOrder": 19,
    "_isFastLaunch": false,
    "category": "General purpose",
    "gpuNum": 0,
    "hideHardwareSpecs": false,
    "memoryGiB": 384,
    "name": "ml.m5d.24xlarge",
    "vcpuNum": 96
   },
   {
    "_defaultOrder": 20,
    "_isFastLaunch": false,
    "category": "General purpose",
    "gpuNum": 0,
    "hideHardwareSpecs": true,
    "memoryGiB": 0,
    "name": "ml.geospatial.interactive",
    "supportedImageNames": [
     "sagemaker-geospatial-v1-0"
    ],
    "vcpuNum": 0
   },
   {
    "_defaultOrder": 21,
    "_isFastLaunch": true,
    "category": "Compute optimized",
    "gpuNum": 0,
    "hideHardwareSpecs": false,
    "memoryGiB": 4,
    "name": "ml.c5.large",
    "vcpuNum": 2
   },
   {
    "_defaultOrder": 22,
    "_isFastLaunch": false,
    "category": "Compute optimized",
    "gpuNum": 0,
    "hideHardwareSpecs": false,
    "memoryGiB": 8,
    "name": "ml.c5.xlarge",
    "vcpuNum": 4
   },
   {
    "_defaultOrder": 23,
    "_isFastLaunch": false,
    "category": "Compute optimized",
    "gpuNum": 0,
    "hideHardwareSpecs": false,
    "memoryGiB": 16,
    "name": "ml.c5.2xlarge",
    "vcpuNum": 8
   },
   {
    "_defaultOrder": 24,
    "_isFastLaunch": false,
    "category": "Compute optimized",
    "gpuNum": 0,
    "hideHardwareSpecs": false,
    "memoryGiB": 32,
    "name": "ml.c5.4xlarge",
    "vcpuNum": 16
   },
   {
    "_defaultOrder": 25,
    "_isFastLaunch": false,
    "category": "Compute optimized",
    "gpuNum": 0,
    "hideHardwareSpecs": false,
    "memoryGiB": 72,
    "name": "ml.c5.9xlarge",
    "vcpuNum": 36
   },
   {
    "_defaultOrder": 26,
    "_isFastLaunch": false,
    "category": "Compute optimized",
    "gpuNum": 0,
    "hideHardwareSpecs": false,
    "memoryGiB": 96,
    "name": "ml.c5.12xlarge",
    "vcpuNum": 48
   },
   {
    "_defaultOrder": 27,
    "_isFastLaunch": false,
    "category": "Compute optimized",
    "gpuNum": 0,
    "hideHardwareSpecs": false,
    "memoryGiB": 144,
    "name": "ml.c5.18xlarge",
    "vcpuNum": 72
   },
   {
    "_defaultOrder": 28,
    "_isFastLaunch": false,
    "category": "Compute optimized",
    "gpuNum": 0,
    "hideHardwareSpecs": false,
    "memoryGiB": 192,
    "name": "ml.c5.24xlarge",
    "vcpuNum": 96
   },
   {
    "_defaultOrder": 29,
    "_isFastLaunch": true,
    "category": "Accelerated computing",
    "gpuNum": 1,
    "hideHardwareSpecs": false,
    "memoryGiB": 16,
    "name": "ml.g4dn.xlarge",
    "vcpuNum": 4
   },
   {
    "_defaultOrder": 30,
    "_isFastLaunch": false,
    "category": "Accelerated computing",
    "gpuNum": 1,
    "hideHardwareSpecs": false,
    "memoryGiB": 32,
    "name": "ml.g4dn.2xlarge",
    "vcpuNum": 8
   },
   {
    "_defaultOrder": 31,
    "_isFastLaunch": false,
    "category": "Accelerated computing",
    "gpuNum": 1,
    "hideHardwareSpecs": false,
    "memoryGiB": 64,
    "name": "ml.g4dn.4xlarge",
    "vcpuNum": 16
   },
   {
    "_defaultOrder": 32,
    "_isFastLaunch": false,
    "category": "Accelerated computing",
    "gpuNum": 1,
    "hideHardwareSpecs": false,
    "memoryGiB": 128,
    "name": "ml.g4dn.8xlarge",
    "vcpuNum": 32
   },
   {
    "_defaultOrder": 33,
    "_isFastLaunch": false,
    "category": "Accelerated computing",
    "gpuNum": 4,
    "hideHardwareSpecs": false,
    "memoryGiB": 192,
    "name": "ml.g4dn.12xlarge",
    "vcpuNum": 48
   },
   {
    "_defaultOrder": 34,
    "_isFastLaunch": false,
    "category": "Accelerated computing",
    "gpuNum": 1,
    "hideHardwareSpecs": false,
    "memoryGiB": 256,
    "name": "ml.g4dn.16xlarge",
    "vcpuNum": 64
   },
   {
    "_defaultOrder": 35,
    "_isFastLaunch": false,
    "category": "Accelerated computing",
    "gpuNum": 1,
    "hideHardwareSpecs": false,
    "memoryGiB": 61,
    "name": "ml.p3.2xlarge",
    "vcpuNum": 8
   },
   {
    "_defaultOrder": 36,
    "_isFastLaunch": false,
    "category": "Accelerated computing",
    "gpuNum": 4,
    "hideHardwareSpecs": false,
    "memoryGiB": 244,
    "name": "ml.p3.8xlarge",
    "vcpuNum": 32
   },
   {
    "_defaultOrder": 37,
    "_isFastLaunch": false,
    "category": "Accelerated computing",
    "gpuNum": 8,
    "hideHardwareSpecs": false,
    "memoryGiB": 488,
    "name": "ml.p3.16xlarge",
    "vcpuNum": 64
   },
   {
    "_defaultOrder": 38,
    "_isFastLaunch": false,
    "category": "Accelerated computing",
    "gpuNum": 8,
    "hideHardwareSpecs": false,
    "memoryGiB": 768,
    "name": "ml.p3dn.24xlarge",
    "vcpuNum": 96
   },
   {
    "_defaultOrder": 39,
    "_isFastLaunch": false,
    "category": "Memory Optimized",
    "gpuNum": 0,
    "hideHardwareSpecs": false,
    "memoryGiB": 16,
    "name": "ml.r5.large",
    "vcpuNum": 2
   },
   {
    "_defaultOrder": 40,
    "_isFastLaunch": false,
    "category": "Memory Optimized",
    "gpuNum": 0,
    "hideHardwareSpecs": false,
    "memoryGiB": 32,
    "name": "ml.r5.xlarge",
    "vcpuNum": 4
   },
   {
    "_defaultOrder": 41,
    "_isFastLaunch": false,
    "category": "Memory Optimized",
    "gpuNum": 0,
    "hideHardwareSpecs": false,
    "memoryGiB": 64,
    "name": "ml.r5.2xlarge",
    "vcpuNum": 8
   },
   {
    "_defaultOrder": 42,
    "_isFastLaunch": false,
    "category": "Memory Optimized",
    "gpuNum": 0,
    "hideHardwareSpecs": false,
    "memoryGiB": 128,
    "name": "ml.r5.4xlarge",
    "vcpuNum": 16
   },
   {
    "_defaultOrder": 43,
    "_isFastLaunch": false,
    "category": "Memory Optimized",
    "gpuNum": 0,
    "hideHardwareSpecs": false,
    "memoryGiB": 256,
    "name": "ml.r5.8xlarge",
    "vcpuNum": 32
   },
   {
    "_defaultOrder": 44,
    "_isFastLaunch": false,
    "category": "Memory Optimized",
    "gpuNum": 0,
    "hideHardwareSpecs": false,
    "memoryGiB": 384,
    "name": "ml.r5.12xlarge",
    "vcpuNum": 48
   },
   {
    "_defaultOrder": 45,
    "_isFastLaunch": false,
    "category": "Memory Optimized",
    "gpuNum": 0,
    "hideHardwareSpecs": false,
    "memoryGiB": 512,
    "name": "ml.r5.16xlarge",
    "vcpuNum": 64
   },
   {
    "_defaultOrder": 46,
    "_isFastLaunch": false,
    "category": "Memory Optimized",
    "gpuNum": 0,
    "hideHardwareSpecs": false,
    "memoryGiB": 768,
    "name": "ml.r5.24xlarge",
    "vcpuNum": 96
   },
   {
    "_defaultOrder": 47,
    "_isFastLaunch": false,
    "category": "Accelerated computing",
    "gpuNum": 1,
    "hideHardwareSpecs": false,
    "memoryGiB": 16,
    "name": "ml.g5.xlarge",
    "vcpuNum": 4
   },
   {
    "_defaultOrder": 48,
    "_isFastLaunch": false,
    "category": "Accelerated computing",
    "gpuNum": 1,
    "hideHardwareSpecs": false,
    "memoryGiB": 32,
    "name": "ml.g5.2xlarge",
    "vcpuNum": 8
   },
   {
    "_defaultOrder": 49,
    "_isFastLaunch": false,
    "category": "Accelerated computing",
    "gpuNum": 1,
    "hideHardwareSpecs": false,
    "memoryGiB": 64,
    "name": "ml.g5.4xlarge",
    "vcpuNum": 16
   },
   {
    "_defaultOrder": 50,
    "_isFastLaunch": false,
    "category": "Accelerated computing",
    "gpuNum": 1,
    "hideHardwareSpecs": false,
    "memoryGiB": 128,
    "name": "ml.g5.8xlarge",
    "vcpuNum": 32
   },
   {
    "_defaultOrder": 51,
    "_isFastLaunch": false,
    "category": "Accelerated computing",
    "gpuNum": 1,
    "hideHardwareSpecs": false,
    "memoryGiB": 256,
    "name": "ml.g5.16xlarge",
    "vcpuNum": 64
   },
   {
    "_defaultOrder": 52,
    "_isFastLaunch": false,
    "category": "Accelerated computing",
    "gpuNum": 4,
    "hideHardwareSpecs": false,
    "memoryGiB": 192,
    "name": "ml.g5.12xlarge",
    "vcpuNum": 48
   },
   {
    "_defaultOrder": 53,
    "_isFastLaunch": false,
    "category": "Accelerated computing",
    "gpuNum": 4,
    "hideHardwareSpecs": false,
    "memoryGiB": 384,
    "name": "ml.g5.24xlarge",
    "vcpuNum": 96
   },
   {
    "_defaultOrder": 54,
    "_isFastLaunch": false,
    "category": "Accelerated computing",
    "gpuNum": 8,
    "hideHardwareSpecs": false,
    "memoryGiB": 768,
    "name": "ml.g5.48xlarge",
    "vcpuNum": 192
   },
   {
    "_defaultOrder": 55,
    "_isFastLaunch": false,
    "category": "Accelerated computing",
    "gpuNum": 8,
    "hideHardwareSpecs": false,
    "memoryGiB": 1152,
    "name": "ml.p4d.24xlarge",
    "vcpuNum": 96
   },
   {
    "_defaultOrder": 56,
    "_isFastLaunch": false,
    "category": "Accelerated computing",
    "gpuNum": 8,
    "hideHardwareSpecs": false,
    "memoryGiB": 1152,
    "name": "ml.p4de.24xlarge",
    "vcpuNum": 96
   },
   {
    "_defaultOrder": 57,
    "_isFastLaunch": false,
    "category": "Accelerated computing",
    "gpuNum": 0,
    "hideHardwareSpecs": false,
    "memoryGiB": 32,
    "name": "ml.trn1.2xlarge",
    "vcpuNum": 8
   },
   {
    "_defaultOrder": 58,
    "_isFastLaunch": false,
    "category": "Accelerated computing",
    "gpuNum": 0,
    "hideHardwareSpecs": false,
    "memoryGiB": 512,
    "name": "ml.trn1.32xlarge",
    "vcpuNum": 128
   },
   {
    "_defaultOrder": 59,
    "_isFastLaunch": false,
    "category": "Accelerated computing",
    "gpuNum": 0,
    "hideHardwareSpecs": false,
    "memoryGiB": 512,
    "name": "ml.trn1n.32xlarge",
    "vcpuNum": 128
   }
  ],
  "instance_type": "ml.t3.medium",
  "kernelspec": {
   "display_name": "Python 3 (Data Science 3.0)",
   "language": "python",
   "name": "python3__SAGEMAKER_INTERNAL__arn:aws:sagemaker:us-east-1:081325390199:image/sagemaker-data-science-310-v1"
  },
  "language_info": {
   "codemirror_mode": {
    "name": "ipython",
    "version": 3
   },
   "file_extension": ".py",
   "mimetype": "text/x-python",
   "name": "python",
   "nbconvert_exporter": "python",
   "pygments_lexer": "ipython3",
   "version": "3.10.6"
  }
 },
 "nbformat": 4,
 "nbformat_minor": 5
}
